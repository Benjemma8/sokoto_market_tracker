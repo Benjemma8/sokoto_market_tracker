{
 "cells": [
  {
   "cell_type": "code",
   "execution_count": 3,
   "id": "ab099173-df7e-4442-bd04-328a5edf36c9",
   "metadata": {},
   "outputs": [],
   "source": [
    "# Import the libraries\n",
    "\n",
    "import pandas as pd\n",
    "import os\n",
    "\n",
    "os.chdir(\"C:\\\\Users\\\\user\\\\Downloads\\\\GIT\\\\sokoto_market_tracker\\\\data\\\\\")"
   ]
  },
  {
   "cell_type": "code",
   "execution_count": 5,
   "id": "e1525e50-960b-466a-9d26-bcf837cdbe90",
   "metadata": {},
   "outputs": [],
   "source": [
    "# Import JSON file\n",
    "\n",
    "# read_json()\n",
    "\n",
    "df=pd.read_json(\"Market shops.json\")"
   ]
  },
  {
   "cell_type": "code",
   "execution_count": 6,
   "id": "d38b838d-8d60-48d6-8378-0facd4864645",
   "metadata": {},
   "outputs": [
    {
     "data": {
      "text/html": [
       "<div>\n",
       "<style scoped>\n",
       "    .dataframe tbody tr th:only-of-type {\n",
       "        vertical-align: middle;\n",
       "    }\n",
       "\n",
       "    .dataframe tbody tr th {\n",
       "        vertical-align: top;\n",
       "    }\n",
       "\n",
       "    .dataframe thead th {\n",
       "        text-align: right;\n",
       "    }\n",
       "</style>\n",
       "<table border=\"1\" class=\"dataframe\">\n",
       "  <thead>\n",
       "    <tr style=\"text-align: right;\">\n",
       "      <th></th>\n",
       "      <th>vendor_name</th>\n",
       "      <th>items</th>\n",
       "      <th>name</th>\n",
       "      <th>price</th>\n",
       "      <th>quantity</th>\n",
       "    </tr>\n",
       "  </thead>\n",
       "  <tbody>\n",
       "    <tr>\n",
       "      <th>0</th>\n",
       "      <td>Ali's Shop</td>\n",
       "      <td>{'name': 'Tomato', 'price': 120, 'quantity': 50}</td>\n",
       "      <td>Pepper</td>\n",
       "      <td>120</td>\n",
       "      <td>50</td>\n",
       "    </tr>\n",
       "    <tr>\n",
       "      <th>1</th>\n",
       "      <td>Shehu's Shop</td>\n",
       "      <td>{'name': 'Tomato', 'price': 100, 'quantity': 30}</td>\n",
       "      <td>Pepper</td>\n",
       "      <td>110</td>\n",
       "      <td>60</td>\n",
       "    </tr>\n",
       "    <tr>\n",
       "      <th>2</th>\n",
       "      <td>Alfa's Shop</td>\n",
       "      <td>{'name': 'Tomato', 'price': 130, 'quantity': 20}</td>\n",
       "      <td>Pepper</td>\n",
       "      <td>90</td>\n",
       "      <td>70</td>\n",
       "    </tr>\n",
       "    <tr>\n",
       "      <th>3</th>\n",
       "      <td>Tijjani's Shop</td>\n",
       "      <td>{'name': 'Tomato', 'price': 220, 'quantity': 30}</td>\n",
       "      <td>Pepper</td>\n",
       "      <td>95</td>\n",
       "      <td>47</td>\n",
       "    </tr>\n",
       "    <tr>\n",
       "      <th>4</th>\n",
       "      <td>Abdul's Shop</td>\n",
       "      <td>{'name': 'Tomato', 'price': 210, 'quantity': 39}</td>\n",
       "      <td>Pepper</td>\n",
       "      <td>76</td>\n",
       "      <td>80</td>\n",
       "    </tr>\n",
       "    <tr>\n",
       "      <th>5</th>\n",
       "      <td>Sadiq's Shop</td>\n",
       "      <td>{'name': 'Tomato', 'price': 190, 'quantity': 70}</td>\n",
       "      <td>Pepper</td>\n",
       "      <td>69</td>\n",
       "      <td>80</td>\n",
       "    </tr>\n",
       "    <tr>\n",
       "      <th>6</th>\n",
       "      <td>Mujaheed's Shop</td>\n",
       "      <td>{'name': 'Tomato', 'price': 176, 'quantity': 35}</td>\n",
       "      <td>Pepper</td>\n",
       "      <td>87</td>\n",
       "      <td>34</td>\n",
       "    </tr>\n",
       "  </tbody>\n",
       "</table>\n",
       "</div>"
      ],
      "text/plain": [
       "       vendor_name                                             items    name  \\\n",
       "0       Ali's Shop  {'name': 'Tomato', 'price': 120, 'quantity': 50}  Pepper   \n",
       "1     Shehu's Shop  {'name': 'Tomato', 'price': 100, 'quantity': 30}  Pepper   \n",
       "2      Alfa's Shop  {'name': 'Tomato', 'price': 130, 'quantity': 20}  Pepper   \n",
       "3   Tijjani's Shop  {'name': 'Tomato', 'price': 220, 'quantity': 30}  Pepper   \n",
       "4     Abdul's Shop  {'name': 'Tomato', 'price': 210, 'quantity': 39}  Pepper   \n",
       "5     Sadiq's Shop  {'name': 'Tomato', 'price': 190, 'quantity': 70}  Pepper   \n",
       "6  Mujaheed's Shop  {'name': 'Tomato', 'price': 176, 'quantity': 35}  Pepper   \n",
       "\n",
       "   price  quantity  \n",
       "0    120        50  \n",
       "1    110        60  \n",
       "2     90        70  \n",
       "3     95        47  \n",
       "4     76        80  \n",
       "5     69        80  \n",
       "6     87        34  "
      ]
     },
     "execution_count": 6,
     "metadata": {},
     "output_type": "execute_result"
    }
   ],
   "source": [
    "df"
   ]
  },
  {
   "cell_type": "code",
   "execution_count": 7,
   "id": "49fa12df-37f1-4167-aefd-41be2b09b64f",
   "metadata": {},
   "outputs": [
    {
     "name": "stdout",
     "output_type": "stream",
     "text": [
      "Updated inventory:\n",
      "       vendor_name                                             items    name  \\\n",
      "0       Ali's Shop  {'name': 'Tomato', 'price': 120, 'quantity': 50}  Pepper   \n",
      "1     Shehu's Shop  {'name': 'Tomato', 'price': 100, 'quantity': 30}  Pepper   \n",
      "2      Alfa's Shop  {'name': 'Tomato', 'price': 130, 'quantity': 20}  Pepper   \n",
      "3   Tijjani's Shop  {'name': 'Tomato', 'price': 220, 'quantity': 30}  Pepper   \n",
      "4     Abdul's Shop  {'name': 'Tomato', 'price': 210, 'quantity': 39}  Pepper   \n",
      "5     Sadiq's Shop  {'name': 'Tomato', 'price': 190, 'quantity': 70}  Pepper   \n",
      "6  Mujaheed's Shop  {'name': 'Tomato', 'price': 176, 'quantity': 35}  Pepper   \n",
      "7              NaN                                               NaN  Pepper   \n",
      "\n",
      "   price  quantity  \n",
      "0    120        50  \n",
      "1    110        60  \n",
      "2     90        70  \n",
      "3     95        47  \n",
      "4     76        80  \n",
      "5     69        80  \n",
      "6     87        34  \n",
      "7    150        40  \n"
     ]
    }
   ],
   "source": [
    "import pandas as pd\n",
    "\n",
    "new_item = {\"name\": \"Pepper\", \"price\": 150, \"quantity\": 40}\n",
    "new_item_df = pd.DataFrame([new_item])  # Convert the new item into a DataFrame\n",
    "df = pd.concat([df, new_item_df], ignore_index=True)  # Concatenate with the existing DataFrame\n",
    "\n",
    "print(\"Updated inventory:\")\n",
    "print(df)\n"
   ]
  },
  {
   "cell_type": "code",
   "execution_count": 8,
   "id": "7c07c4bf-da84-47a4-8026-b0785e14f246",
   "metadata": {},
   "outputs": [
    {
     "name": "stdout",
     "output_type": "stream",
     "text": [
      "Inventory after adding the new item:\n",
      "       vendor_name                                             items    name  \\\n",
      "0       Ali's Shop  {'name': 'Tomato', 'price': 120, 'quantity': 50}  Pepper   \n",
      "1     Shehu's Shop  {'name': 'Tomato', 'price': 100, 'quantity': 30}  Pepper   \n",
      "2      Alfa's Shop  {'name': 'Tomato', 'price': 130, 'quantity': 20}  Pepper   \n",
      "3   Tijjani's Shop  {'name': 'Tomato', 'price': 220, 'quantity': 30}  Pepper   \n",
      "4     Abdul's Shop  {'name': 'Tomato', 'price': 210, 'quantity': 39}  Pepper   \n",
      "5     Sadiq's Shop  {'name': 'Tomato', 'price': 190, 'quantity': 70}  Pepper   \n",
      "6  Mujaheed's Shop  {'name': 'Tomato', 'price': 176, 'quantity': 35}  Pepper   \n",
      "7              NaN                                               NaN  Pepper   \n",
      "\n",
      "   price  quantity  \n",
      "0    120        50  \n",
      "1    110        60  \n",
      "2     90        70  \n",
      "3     95        47  \n",
      "4     76        80  \n",
      "5     69        80  \n",
      "6     87        34  \n",
      "7    150        40  \n"
     ]
    }
   ],
   "source": [
    "print(\"Inventory after adding the new item:\")\n",
    "print(df)"
   ]
  },
  {
   "cell_type": "code",
   "execution_count": 9,
   "id": "58a78a13-5b50-4e2b-8813-510f1477f26b",
   "metadata": {},
   "outputs": [
    {
     "name": "stdout",
     "output_type": "stream",
     "text": [
      "Inventory saved to JSON file.\n"
     ]
    }
   ],
   "source": [
    "df.to_json(\"alis_shop.json\", orient=\"records\", indent=4)\n",
    "print(\"Inventory saved to JSON file.\")"
   ]
  },
  {
   "cell_type": "code",
   "execution_count": null,
   "id": "7029be94-e707-4ba9-beff-e90daef10500",
   "metadata": {},
   "outputs": [],
   "source": []
  }
 ],
 "metadata": {
  "kernelspec": {
   "display_name": "Python 3 (ipykernel)",
   "language": "python",
   "name": "python3"
  },
  "language_info": {
   "codemirror_mode": {
    "name": "ipython",
    "version": 3
   },
   "file_extension": ".py",
   "mimetype": "text/x-python",
   "name": "python",
   "nbconvert_exporter": "python",
   "pygments_lexer": "ipython3",
   "version": "3.11.7"
  }
 },
 "nbformat": 4,
 "nbformat_minor": 5
}
